{
 "cells": [
  {
   "cell_type": "code",
   "execution_count": null,
   "metadata": {},
   "outputs": [],
   "source": [
    "LINEAR REGRESSION:-"
   ]
  },
  {
   "cell_type": "code",
   "execution_count": 1,
   "metadata": {},
   "outputs": [],
   "source": [
    "import numpy as np\n",
    "import pandas as pd\n",
    "import matplotlib.pyplot as plt"
   ]
  },
  {
   "cell_type": "code",
   "execution_count": 2,
   "metadata": {},
   "outputs": [
    {
     "name": "stdout",
     "output_type": "stream",
     "text": [
      "(237, 4)\n"
     ]
    },
    {
     "data": {
      "text/html": [
       "<div>\n",
       "<style scoped>\n",
       "    .dataframe tbody tr th:only-of-type {\n",
       "        vertical-align: middle;\n",
       "    }\n",
       "\n",
       "    .dataframe tbody tr th {\n",
       "        vertical-align: top;\n",
       "    }\n",
       "\n",
       "    .dataframe thead th {\n",
       "        text-align: right;\n",
       "    }\n",
       "</style>\n",
       "<table border=\"1\" class=\"dataframe\">\n",
       "  <thead>\n",
       "    <tr style=\"text-align: right;\">\n",
       "      <th></th>\n",
       "      <th>Gender</th>\n",
       "      <th>Age Range</th>\n",
       "      <th>Head Size(cm^3)</th>\n",
       "      <th>Brain Weight(grams)</th>\n",
       "    </tr>\n",
       "  </thead>\n",
       "  <tbody>\n",
       "    <tr>\n",
       "      <th>0</th>\n",
       "      <td>1</td>\n",
       "      <td>1</td>\n",
       "      <td>4512</td>\n",
       "      <td>1530</td>\n",
       "    </tr>\n",
       "    <tr>\n",
       "      <th>1</th>\n",
       "      <td>1</td>\n",
       "      <td>1</td>\n",
       "      <td>3738</td>\n",
       "      <td>1297</td>\n",
       "    </tr>\n",
       "    <tr>\n",
       "      <th>2</th>\n",
       "      <td>1</td>\n",
       "      <td>1</td>\n",
       "      <td>4261</td>\n",
       "      <td>1335</td>\n",
       "    </tr>\n",
       "    <tr>\n",
       "      <th>3</th>\n",
       "      <td>1</td>\n",
       "      <td>1</td>\n",
       "      <td>3777</td>\n",
       "      <td>1282</td>\n",
       "    </tr>\n",
       "    <tr>\n",
       "      <th>4</th>\n",
       "      <td>1</td>\n",
       "      <td>1</td>\n",
       "      <td>4177</td>\n",
       "      <td>1590</td>\n",
       "    </tr>\n",
       "  </tbody>\n",
       "</table>\n",
       "</div>"
      ],
      "text/plain": [
       "   Gender  Age Range  Head Size(cm^3)  Brain Weight(grams)\n",
       "0       1          1             4512                 1530\n",
       "1       1          1             3738                 1297\n",
       "2       1          1             4261                 1335\n",
       "3       1          1             3777                 1282\n",
       "4       1          1             4177                 1590"
      ]
     },
     "execution_count": 2,
     "metadata": {},
     "output_type": "execute_result"
    }
   ],
   "source": [
    "data = pd.read_csv(r'C:\\Users\\ASUS\\Downloads\\headbrain.csv')\n",
    "print(data.shape)\n",
    "data.head()\n"
   ]
  },
  {
   "cell_type": "code",
   "execution_count": 3,
   "metadata": {},
   "outputs": [],
   "source": [
    "X = data['Head Size(cm^3)'].values\n",
    "Y = data['Brain Weight(grams)'].values"
   ]
  },
  {
   "cell_type": "code",
   "execution_count": 4,
   "metadata": {},
   "outputs": [
    {
     "name": "stdout",
     "output_type": "stream",
     "text": [
      "0.26342933948939945 325.57342104944223\n"
     ]
    }
   ],
   "source": [
    "# Mean X and Y\n",
    "mean_x = np.mean(X)\n",
    "mean_y = np.mean(Y)\n",
    "\n",
    "# Total number of values\n",
    "m = len(X)\n",
    "\n",
    "# Using the formula to calculate b1 and b2\n",
    "numer = 0\n",
    "denom = 0\n",
    "for i in range(m):\n",
    "    numer += (X[i] - mean_x) * (Y[i] - mean_y)\n",
    "    denom += (X[i] - mean_x) ** 2\n",
    "b1 = numer / denom\n",
    "b0 = mean_y - (b1 * mean_x)\n",
    "\n",
    "# Print coefficients\n",
    "print(b1, b0)"
   ]
  },
  {
   "cell_type": "code",
   "execution_count": 5,
   "metadata": {},
   "outputs": [],
   "source": [
    "#BrainWeight=325.573421049+0.263429339489∗HeadSize.\n",
    "#this is our linear model."
   ]
  },
  {
   "cell_type": "code",
   "execution_count": 8,
   "metadata": {},
   "outputs": [
    {
     "data": {
      "text/plain": [
       "LinearRegression(copy_X=True, fit_intercept=True, n_jobs=1, normalize=False)"
      ]
     },
     "execution_count": 8,
     "metadata": {},
     "output_type": "execute_result"
    }
   ],
   "source": [
    "from sklearn.linear_model import LinearRegression\n",
    "lm=LinearRegression()\n",
    "x=data[['Head Size(cm^3)']]   #importance of brackets\n",
    "y=data['Brain Weight(grams)']\n",
    "lm.fit(x,y)"
   ]
  },
  {
   "cell_type": "code",
   "execution_count": 9,
   "metadata": {},
   "outputs": [
    {
     "name": "stdout",
     "output_type": "stream",
     "text": [
      "325.5734210494428\n"
     ]
    }
   ],
   "source": [
    "print(\n",
    "lm.intercept_)\n"
   ]
  },
  {
   "cell_type": "code",
   "execution_count": 10,
   "metadata": {},
   "outputs": [
    {
     "name": "stdout",
     "output_type": "stream",
     "text": [
      "[1514.16660083 1310.27229206 1448.04583661 1320.5460363  1425.9177721\n",
      " 1269.96760312 1322.65347102 1263.11844029 1277.34362462 1374.5490509\n",
      " 1232.56063691 1377.44677363 1284.45621679 1434.08408162 1335.03464997\n",
      " 1346.62554091 1246.78582124 1238.61951172 1140.88722677 1490.98481895\n",
      " 1347.15239959 1391.40852862 1327.65862847 1302.89627056 1576.07249561\n",
      " 1490.72138961 1388.77423523 1385.08622448 1235.45835965 1425.39091342\n",
      " 1323.1803297  1325.55119375 1406.42400097 1421.70290266 1420.91261465\n",
      " 1330.29292186 1254.68870143 1312.90658546 1203.84683891 1245.46867455\n",
      " 1369.28046411 1248.89325596 1462.27102095 1327.65862847 1343.2009595\n",
      " 1388.24737655 1460.42701557 1159.32728053 1284.71964613 1285.50993415\n",
      " 1350.576981   1324.76090573 1450.41670067 1395.88682739 1382.45193108\n",
      " 1236.512077   1350.31355166 1423.02004936 1362.16787194 1292.09566764\n",
      " 1343.99124752 1219.38916994 1495.72654706 1445.9384019  1307.37456933\n",
      " 1202.52969221 1225.18461541 1213.85715381 1492.56539499 1479.65735735\n",
      " 1381.39821372 1341.8838128  1411.16572909 1394.30625136 1332.92721526\n",
      " 1219.65259928 1262.85501095 1211.22286041 1360.85072524 1335.82493799\n",
      " 1334.50779129 1341.35695412 1181.45534505 1267.8601684  1361.64101326\n",
      " 1339.77637808 1197.26110542 1222.81375135 1249.1566853  1354.79185043\n",
      " 1421.43947333 1199.63196948 1290.25166226 1352.68441572 1300.26197716\n",
      " 1321.07289498 1240.4635171  1244.94181587 1288.14422754 1241.78066379\n",
      " 1246.25896256 1335.56150865 1346.62554091 1289.98823292 1278.66077132\n",
      " 1286.56365151 1387.72051787 1220.96974597 1357.16271449 1492.56539499\n",
      " 1298.94483046 1253.89841341 1266.27959237 1272.33846717 1216.75487654\n",
      " 1247.31267992 1271.02132048 1352.94784506 1409.32172371 1362.69473062\n",
      " 1220.96974597 1431.9766469  1507.84429668 1277.60705396 1392.72567532\n",
      " 1321.863183   1218.86231126 1148.52667761 1393.252534   1269.1773151\n",
      " 1291.30537962 1256.00584813 1391.40852862 1291.56880896 1078.19104397\n",
      " 1230.71663154 1324.23404705 1195.41710004 1143.25809082 1160.90785657\n",
      " 1266.54302171 1255.47898945 1161.96157393 1231.24349021 1353.73813308\n",
      " 1352.68441572 1221.49660465 1186.19707316 1234.66807163 1139.57008007\n",
      " 1224.65775673 1200.94911617 1294.99339037 1231.50691955 1340.5666661\n",
      " 1156.95641648 1189.35822524 1302.10598254 1380.87135504 1186.72393184\n",
      " 1134.56492262 1321.07289498 1260.22071756 1192.78280665 1246.78582124\n",
      " 1137.46264536 1181.19191571 1210.16914305 1327.39519913 1264.96244567\n",
      " 1154.05869374 1248.36639728 1266.27959237 1306.58428131 1277.8704833\n",
      " 1169.33759543 1276.28990727 1263.64529897 1373.75876288 1256.26927747\n",
      " 1297.36425443 1157.48327516 1380.6079257  1163.54214997 1242.04409313\n",
      " 1284.98307547 1282.34878207 1134.03806394 1219.65259928 1301.05226518\n",
      " 1159.32728053 1209.1154257  1115.86143952 1296.83739575 1262.32815227\n",
      " 1056.06297945 1131.14034121 1206.4811323  1245.73210389 1194.09995335\n",
      " 1210.69600173 1175.92332892 1188.83136656 1340.03980742 1133.51120526\n",
      " 1298.15454244 1221.76003399 1377.97363231 1199.63196948 1042.10122446\n",
      " 1099.26539113 1268.65045642 1099.79224981 1112.96371678 1270.23103246\n",
      " 1156.95641648 1180.66505703 1160.64442723 1186.4605025  1218.33545258\n",
      " 1216.22801786 1080.03504935 1310.79915074 1242.04409313 1286.30022217\n",
      " 1304.47684659 1190.67537193 1433.03036426 1309.48200404 1173.28903553\n",
      " 1296.31053707 1301.31569452 1172.23531817 1219.65259928 1177.24047562\n",
      " 1208.58856702 1218.86231126]\n"
     ]
    }
   ],
   "source": [
    "print(lm.predict(x))"
   ]
  },
  {
   "cell_type": "code",
   "execution_count": null,
   "metadata": {},
   "outputs": [],
   "source": [
    "MULTIPLE  REGRESSION:-"
   ]
  },
  {
   "cell_type": "code",
   "execution_count": 17,
   "metadata": {},
   "outputs": [
    {
     "name": "stdout",
     "output_type": "stream",
     "text": [
      "(100, 8)\n"
     ]
    },
    {
     "data": {
      "text/html": [
       "<div>\n",
       "<style scoped>\n",
       "    .dataframe tbody tr th:only-of-type {\n",
       "        vertical-align: middle;\n",
       "    }\n",
       "\n",
       "    .dataframe tbody tr th {\n",
       "        vertical-align: top;\n",
       "    }\n",
       "\n",
       "    .dataframe thead th {\n",
       "        text-align: right;\n",
       "    }\n",
       "</style>\n",
       "<table border=\"1\" class=\"dataframe\">\n",
       "  <thead>\n",
       "    <tr style=\"text-align: right;\">\n",
       "      <th></th>\n",
       "      <th>Obs no.</th>\n",
       "      <th>x1</th>\n",
       "      <th>x2</th>\n",
       "      <th>y1</th>\n",
       "      <th>y2</th>\n",
       "      <th>y3</th>\n",
       "      <th>y4</th>\n",
       "      <th>y5</th>\n",
       "    </tr>\n",
       "  </thead>\n",
       "  <tbody>\n",
       "    <tr>\n",
       "      <th>0</th>\n",
       "      <td>1</td>\n",
       "      <td>17.6403</td>\n",
       "      <td>39.2009</td>\n",
       "      <td>13.9218</td>\n",
       "      <td>13.3960</td>\n",
       "      <td>13.9597</td>\n",
       "      <td>12.6844</td>\n",
       "      <td>99.4237</td>\n",
       "    </tr>\n",
       "    <tr>\n",
       "      <th>1</th>\n",
       "      <td>2</td>\n",
       "      <td>9.3786</td>\n",
       "      <td>20.2735</td>\n",
       "      <td>3.1704</td>\n",
       "      <td>2.5463</td>\n",
       "      <td>3.5158</td>\n",
       "      <td>3.3700</td>\n",
       "      <td>47.8476</td>\n",
       "    </tr>\n",
       "    <tr>\n",
       "      <th>2</th>\n",
       "      <td>3</td>\n",
       "      <td>20.0313</td>\n",
       "      <td>33.7959</td>\n",
       "      <td>16.6045</td>\n",
       "      <td>16.7703</td>\n",
       "      <td>16.6909</td>\n",
       "      <td>15.9766</td>\n",
       "      <td>89.1535</td>\n",
       "    </tr>\n",
       "    <tr>\n",
       "      <th>3</th>\n",
       "      <td>4</td>\n",
       "      <td>23.4556</td>\n",
       "      <td>48.6115</td>\n",
       "      <td>23.3931</td>\n",
       "      <td>22.7679</td>\n",
       "      <td>23.2650</td>\n",
       "      <td>22.0821</td>\n",
       "      <td>143.1316</td>\n",
       "    </tr>\n",
       "    <tr>\n",
       "      <th>4</th>\n",
       "      <td>5</td>\n",
       "      <td>24.4938</td>\n",
       "      <td>47.3454</td>\n",
       "      <td>22.5413</td>\n",
       "      <td>23.6277</td>\n",
       "      <td>22.5428</td>\n",
       "      <td>23.2443</td>\n",
       "      <td>124.6998</td>\n",
       "    </tr>\n",
       "  </tbody>\n",
       "</table>\n",
       "</div>"
      ],
      "text/plain": [
       "   Obs no.       x1       x2       y1       y2       y3       y4        y5\n",
       "0        1  17.6403  39.2009  13.9218  13.3960  13.9597  12.6844   99.4237\n",
       "1        2   9.3786  20.2735   3.1704   2.5463   3.5158   3.3700   47.8476\n",
       "2        3  20.0313  33.7959  16.6045  16.7703  16.6909  15.9766   89.1535\n",
       "3        4  23.4556  48.6115  23.3931  22.7679  23.2650  22.0821  143.1316\n",
       "4        5  24.4938  47.3454  22.5413  23.6277  22.5428  23.2443  124.6998"
      ]
     },
     "execution_count": 17,
     "metadata": {},
     "output_type": "execute_result"
    }
   ],
   "source": [
    "\n",
    "data = pd.read_csv(r'C:\\Users\\ASUS\\Downloads\\regrex3.csv')\n",
    "print(data.shape)\n",
    "data.head()\n",
    "    "
   ]
  },
  {
   "cell_type": "code",
   "execution_count": 12,
   "metadata": {},
   "outputs": [
    {
     "data": {
      "text/html": [
       "<div>\n",
       "<style scoped>\n",
       "    .dataframe tbody tr th:only-of-type {\n",
       "        vertical-align: middle;\n",
       "    }\n",
       "\n",
       "    .dataframe tbody tr th {\n",
       "        vertical-align: top;\n",
       "    }\n",
       "\n",
       "    .dataframe thead th {\n",
       "        text-align: right;\n",
       "    }\n",
       "</style>\n",
       "<table border=\"1\" class=\"dataframe\">\n",
       "  <thead>\n",
       "    <tr style=\"text-align: right;\">\n",
       "      <th></th>\n",
       "      <th>Obs no.</th>\n",
       "      <th>x1</th>\n",
       "      <th>x2</th>\n",
       "      <th>y1</th>\n",
       "      <th>y2</th>\n",
       "      <th>y3</th>\n",
       "      <th>y4</th>\n",
       "      <th>y5</th>\n",
       "    </tr>\n",
       "  </thead>\n",
       "  <tbody>\n",
       "    <tr>\n",
       "      <th>count</th>\n",
       "      <td>100.000000</td>\n",
       "      <td>100.000000</td>\n",
       "      <td>100.000000</td>\n",
       "      <td>100.000000</td>\n",
       "      <td>100.000000</td>\n",
       "      <td>100.000000</td>\n",
       "      <td>100.000000</td>\n",
       "      <td>100.000000</td>\n",
       "    </tr>\n",
       "    <tr>\n",
       "      <th>mean</th>\n",
       "      <td>50.500000</td>\n",
       "      <td>14.075044</td>\n",
       "      <td>28.467680</td>\n",
       "      <td>9.513211</td>\n",
       "      <td>9.513172</td>\n",
       "      <td>9.473106</td>\n",
       "      <td>9.715962</td>\n",
       "      <td>73.884417</td>\n",
       "    </tr>\n",
       "    <tr>\n",
       "      <th>std</th>\n",
       "      <td>29.011492</td>\n",
       "      <td>7.230464</td>\n",
       "      <td>15.274361</td>\n",
       "      <td>8.820457</td>\n",
       "      <td>8.807427</td>\n",
       "      <td>8.909002</td>\n",
       "      <td>8.027720</td>\n",
       "      <td>37.601818</td>\n",
       "    </tr>\n",
       "    <tr>\n",
       "      <th>min</th>\n",
       "      <td>1.000000</td>\n",
       "      <td>0.207600</td>\n",
       "      <td>-9.794300</td>\n",
       "      <td>-7.580500</td>\n",
       "      <td>-6.738700</td>\n",
       "      <td>-7.735300</td>\n",
       "      <td>-2.097400</td>\n",
       "      <td>-8.454600</td>\n",
       "    </tr>\n",
       "    <tr>\n",
       "      <th>25%</th>\n",
       "      <td>25.750000</td>\n",
       "      <td>7.688750</td>\n",
       "      <td>16.850350</td>\n",
       "      <td>2.104500</td>\n",
       "      <td>2.580050</td>\n",
       "      <td>1.760575</td>\n",
       "      <td>2.255725</td>\n",
       "      <td>45.818050</td>\n",
       "    </tr>\n",
       "    <tr>\n",
       "      <th>50%</th>\n",
       "      <td>50.500000</td>\n",
       "      <td>15.151150</td>\n",
       "      <td>27.545900</td>\n",
       "      <td>10.098200</td>\n",
       "      <td>10.001750</td>\n",
       "      <td>10.486750</td>\n",
       "      <td>9.482550</td>\n",
       "      <td>76.445850</td>\n",
       "    </tr>\n",
       "    <tr>\n",
       "      <th>75%</th>\n",
       "      <td>75.250000</td>\n",
       "      <td>20.446950</td>\n",
       "      <td>40.138325</td>\n",
       "      <td>17.262825</td>\n",
       "      <td>16.818675</td>\n",
       "      <td>17.125525</td>\n",
       "      <td>16.588375</td>\n",
       "      <td>102.689525</td>\n",
       "    </tr>\n",
       "    <tr>\n",
       "      <th>max</th>\n",
       "      <td>100.000000</td>\n",
       "      <td>24.952500</td>\n",
       "      <td>63.861200</td>\n",
       "      <td>24.217300</td>\n",
       "      <td>24.459400</td>\n",
       "      <td>24.167900</td>\n",
       "      <td>24.217300</td>\n",
       "      <td>150.621100</td>\n",
       "    </tr>\n",
       "  </tbody>\n",
       "</table>\n",
       "</div>"
      ],
      "text/plain": [
       "          Obs no.          x1          x2          y1          y2          y3  \\\n",
       "count  100.000000  100.000000  100.000000  100.000000  100.000000  100.000000   \n",
       "mean    50.500000   14.075044   28.467680    9.513211    9.513172    9.473106   \n",
       "std     29.011492    7.230464   15.274361    8.820457    8.807427    8.909002   \n",
       "min      1.000000    0.207600   -9.794300   -7.580500   -6.738700   -7.735300   \n",
       "25%     25.750000    7.688750   16.850350    2.104500    2.580050    1.760575   \n",
       "50%     50.500000   15.151150   27.545900   10.098200   10.001750   10.486750   \n",
       "75%     75.250000   20.446950   40.138325   17.262825   16.818675   17.125525   \n",
       "max    100.000000   24.952500   63.861200   24.217300   24.459400   24.167900   \n",
       "\n",
       "               y4          y5  \n",
       "count  100.000000  100.000000  \n",
       "mean     9.715962   73.884417  \n",
       "std      8.027720   37.601818  \n",
       "min     -2.097400   -8.454600  \n",
       "25%      2.255725   45.818050  \n",
       "50%      9.482550   76.445850  \n",
       "75%     16.588375  102.689525  \n",
       "max     24.217300  150.621100  "
      ]
     },
     "execution_count": 12,
     "metadata": {},
     "output_type": "execute_result"
    }
   ],
   "source": [
    "data.describe()"
   ]
  },
  {
   "cell_type": "code",
   "execution_count": 20,
   "metadata": {},
   "outputs": [
    {
     "data": {
      "text/html": [
       "<div>\n",
       "<style scoped>\n",
       "    .dataframe tbody tr th:only-of-type {\n",
       "        vertical-align: middle;\n",
       "    }\n",
       "\n",
       "    .dataframe tbody tr th {\n",
       "        vertical-align: top;\n",
       "    }\n",
       "\n",
       "    .dataframe thead th {\n",
       "        text-align: right;\n",
       "    }\n",
       "</style>\n",
       "<table border=\"1\" class=\"dataframe\">\n",
       "  <thead>\n",
       "    <tr style=\"text-align: right;\">\n",
       "      <th></th>\n",
       "      <th>y1</th>\n",
       "      <th>y2</th>\n",
       "      <th>y3</th>\n",
       "      <th>y4</th>\n",
       "      <th>y5</th>\n",
       "      <th>x1</th>\n",
       "    </tr>\n",
       "  </thead>\n",
       "  <tbody>\n",
       "    <tr>\n",
       "      <th>0</th>\n",
       "      <td>13.9218</td>\n",
       "      <td>13.3960</td>\n",
       "      <td>13.9597</td>\n",
       "      <td>12.6844</td>\n",
       "      <td>99.4237</td>\n",
       "      <td>17.6403</td>\n",
       "    </tr>\n",
       "    <tr>\n",
       "      <th>1</th>\n",
       "      <td>3.1704</td>\n",
       "      <td>2.5463</td>\n",
       "      <td>3.5158</td>\n",
       "      <td>3.3700</td>\n",
       "      <td>47.8476</td>\n",
       "      <td>9.3786</td>\n",
       "    </tr>\n",
       "    <tr>\n",
       "      <th>2</th>\n",
       "      <td>16.6045</td>\n",
       "      <td>16.7703</td>\n",
       "      <td>16.6909</td>\n",
       "      <td>15.9766</td>\n",
       "      <td>89.1535</td>\n",
       "      <td>20.0313</td>\n",
       "    </tr>\n",
       "    <tr>\n",
       "      <th>3</th>\n",
       "      <td>23.3931</td>\n",
       "      <td>22.7679</td>\n",
       "      <td>23.2650</td>\n",
       "      <td>22.0821</td>\n",
       "      <td>143.1316</td>\n",
       "      <td>23.4556</td>\n",
       "    </tr>\n",
       "    <tr>\n",
       "      <th>4</th>\n",
       "      <td>22.5413</td>\n",
       "      <td>23.6277</td>\n",
       "      <td>22.5428</td>\n",
       "      <td>23.2443</td>\n",
       "      <td>124.6998</td>\n",
       "      <td>24.4938</td>\n",
       "    </tr>\n",
       "  </tbody>\n",
       "</table>\n",
       "</div>"
      ],
      "text/plain": [
       "        y1       y2       y3       y4        y5       x1\n",
       "0  13.9218  13.3960  13.9597  12.6844   99.4237  17.6403\n",
       "1   3.1704   2.5463   3.5158   3.3700   47.8476   9.3786\n",
       "2  16.6045  16.7703  16.6909  15.9766   89.1535  20.0313\n",
       "3  23.3931  22.7679  23.2650  22.0821  143.1316  23.4556\n",
       "4  22.5413  23.6277  22.5428  23.2443  124.6998  24.4938"
      ]
     },
     "execution_count": 20,
     "metadata": {},
     "output_type": "execute_result"
    }
   ],
   "source": [
    "data=data[[\"y1\",\"y2\",\"y3\",\"y4\",\"y5\",\"x1\"]]\n",
    "data.head()"
   ]
  },
  {
   "cell_type": "code",
   "execution_count": 19,
   "metadata": {},
   "outputs": [
    {
     "name": "stdout",
     "output_type": "stream",
     "text": [
      "[[-0.58825771  0.03177826  1.31981202  0.07195786 -0.00606284]]\n",
      "[6.61504193]\n"
     ]
    }
   ],
   "source": [
    "from sklearn.linear_model import LinearRegression\n",
    "lm=LinearRegression()\n",
    "X=data[[\"y1\",\"y2\",\"y3\",\"y4\",\"y5\"]]\n",
    "y=data[['x1']]\n",
    "lm.fit(X,y)\n",
    "print(lm.coef_)\n",
    "print(lm.intercept_)"
   ]
  },
  {
   "cell_type": "code",
   "execution_count": 21,
   "metadata": {},
   "outputs": [],
   "source": [
    "def computeCost(X, y, theta):\n",
    "    inner = np.power(((X * theta.T) - y), 2)\n",
    "    return np.sum(inner) / (2 * len(X))"
   ]
  },
  {
   "cell_type": "code",
   "execution_count": 22,
   "metadata": {},
   "outputs": [],
   "source": [
    "def gradientDescent(X, y, theta, alpha, iters):\n",
    "    temp = np.matrix(np.zeros(theta.shape))\n",
    "    parameters = int(theta.ravel().shape[1])\n",
    "    cost = np.zeros(iters)\n",
    "    \n",
    "    for i in range(iters):\n",
    "        error = (X * theta.T) - y\n",
    "        \n",
    "        for j in range(parameters):\n",
    "            term = np.multiply(error, X[:,j])\n",
    "            temp[0,j] = theta[0,j] - ((alpha / len(X)) * np.sum(term))\n",
    "            \n",
    "        theta = temp\n",
    "        cost[i] = computeCost(X, y, theta)\n",
    "        \n",
    "    return theta, cost"
   ]
  },
  {
   "cell_type": "code",
   "execution_count": 23,
   "metadata": {},
   "outputs": [],
   "source": [
    "data.insert(0, 'Ones', 1)"
   ]
  },
  {
   "cell_type": "code",
   "execution_count": 27,
   "metadata": {},
   "outputs": [],
   "source": [
    "alpha = 0.01\n",
    "iters = 1000"
   ]
  },
  {
   "cell_type": "code",
   "execution_count": 28,
   "metadata": {},
   "outputs": [
    {
     "ename": "ValueError",
     "evalue": "shapes (100,6) and (3,1) not aligned: 6 (dim 1) != 3 (dim 0)",
     "output_type": "error",
     "traceback": [
      "\u001b[1;31m---------------------------------------------------------------------------\u001b[0m",
      "\u001b[1;31mValueError\u001b[0m                                Traceback (most recent call last)",
      "\u001b[1;32m<ipython-input-28-075b71c71643>\u001b[0m in \u001b[0;36m<module>\u001b[1;34m()\u001b[0m\n\u001b[0;32m      9\u001b[0m \u001b[1;33m\u001b[0m\u001b[0m\n\u001b[0;32m     10\u001b[0m \u001b[1;31m# perform linear regression on the data set\u001b[0m\u001b[1;33m\u001b[0m\u001b[1;33m\u001b[0m\u001b[0m\n\u001b[1;32m---> 11\u001b[1;33m \u001b[0mg2\u001b[0m\u001b[1;33m,\u001b[0m \u001b[0mcost2\u001b[0m \u001b[1;33m=\u001b[0m \u001b[0mgradientDescent\u001b[0m\u001b[1;33m(\u001b[0m\u001b[0mX\u001b[0m\u001b[1;33m,\u001b[0m \u001b[0my\u001b[0m\u001b[1;33m,\u001b[0m \u001b[0mtheta2\u001b[0m\u001b[1;33m,\u001b[0m \u001b[0malpha\u001b[0m\u001b[1;33m,\u001b[0m \u001b[0miters\u001b[0m\u001b[1;33m)\u001b[0m\u001b[1;33m\u001b[0m\u001b[0m\n\u001b[0m\u001b[0;32m     12\u001b[0m \u001b[1;33m\u001b[0m\u001b[0m\n\u001b[0;32m     13\u001b[0m \u001b[1;31m# get the cost (error) of the model\u001b[0m\u001b[1;33m\u001b[0m\u001b[1;33m\u001b[0m\u001b[0m\n",
      "\u001b[1;32m<ipython-input-22-3ab53844c7dc>\u001b[0m in \u001b[0;36mgradientDescent\u001b[1;34m(X, y, theta, alpha, iters)\u001b[0m\n\u001b[0;32m      5\u001b[0m \u001b[1;33m\u001b[0m\u001b[0m\n\u001b[0;32m      6\u001b[0m     \u001b[1;32mfor\u001b[0m \u001b[0mi\u001b[0m \u001b[1;32min\u001b[0m \u001b[0mrange\u001b[0m\u001b[1;33m(\u001b[0m\u001b[0miters\u001b[0m\u001b[1;33m)\u001b[0m\u001b[1;33m:\u001b[0m\u001b[1;33m\u001b[0m\u001b[0m\n\u001b[1;32m----> 7\u001b[1;33m         \u001b[0merror\u001b[0m \u001b[1;33m=\u001b[0m \u001b[1;33m(\u001b[0m\u001b[0mX\u001b[0m \u001b[1;33m*\u001b[0m \u001b[0mtheta\u001b[0m\u001b[1;33m.\u001b[0m\u001b[0mT\u001b[0m\u001b[1;33m)\u001b[0m \u001b[1;33m-\u001b[0m \u001b[0my\u001b[0m\u001b[1;33m\u001b[0m\u001b[0m\n\u001b[0m\u001b[0;32m      8\u001b[0m \u001b[1;33m\u001b[0m\u001b[0m\n\u001b[0;32m      9\u001b[0m         \u001b[1;32mfor\u001b[0m \u001b[0mj\u001b[0m \u001b[1;32min\u001b[0m \u001b[0mrange\u001b[0m\u001b[1;33m(\u001b[0m\u001b[0mparameters\u001b[0m\u001b[1;33m)\u001b[0m\u001b[1;33m:\u001b[0m\u001b[1;33m\u001b[0m\u001b[0m\n",
      "\u001b[1;32m~\\Anaconda3\\lib\\site-packages\\numpy\\matrixlib\\defmatrix.py\u001b[0m in \u001b[0;36m__mul__\u001b[1;34m(self, other)\u001b[0m\n\u001b[0;32m    307\u001b[0m         \u001b[1;32mif\u001b[0m \u001b[0misinstance\u001b[0m\u001b[1;33m(\u001b[0m\u001b[0mother\u001b[0m\u001b[1;33m,\u001b[0m \u001b[1;33m(\u001b[0m\u001b[0mN\u001b[0m\u001b[1;33m.\u001b[0m\u001b[0mndarray\u001b[0m\u001b[1;33m,\u001b[0m \u001b[0mlist\u001b[0m\u001b[1;33m,\u001b[0m \u001b[0mtuple\u001b[0m\u001b[1;33m)\u001b[0m\u001b[1;33m)\u001b[0m \u001b[1;33m:\u001b[0m\u001b[1;33m\u001b[0m\u001b[0m\n\u001b[0;32m    308\u001b[0m             \u001b[1;31m# This promotes 1-D vectors to row vectors\u001b[0m\u001b[1;33m\u001b[0m\u001b[1;33m\u001b[0m\u001b[0m\n\u001b[1;32m--> 309\u001b[1;33m             \u001b[1;32mreturn\u001b[0m \u001b[0mN\u001b[0m\u001b[1;33m.\u001b[0m\u001b[0mdot\u001b[0m\u001b[1;33m(\u001b[0m\u001b[0mself\u001b[0m\u001b[1;33m,\u001b[0m \u001b[0masmatrix\u001b[0m\u001b[1;33m(\u001b[0m\u001b[0mother\u001b[0m\u001b[1;33m)\u001b[0m\u001b[1;33m)\u001b[0m\u001b[1;33m\u001b[0m\u001b[0m\n\u001b[0m\u001b[0;32m    310\u001b[0m         \u001b[1;32mif\u001b[0m \u001b[0misscalar\u001b[0m\u001b[1;33m(\u001b[0m\u001b[0mother\u001b[0m\u001b[1;33m)\u001b[0m \u001b[1;32mor\u001b[0m \u001b[1;32mnot\u001b[0m \u001b[0mhasattr\u001b[0m\u001b[1;33m(\u001b[0m\u001b[0mother\u001b[0m\u001b[1;33m,\u001b[0m \u001b[1;34m'__rmul__'\u001b[0m\u001b[1;33m)\u001b[0m \u001b[1;33m:\u001b[0m\u001b[1;33m\u001b[0m\u001b[0m\n\u001b[0;32m    311\u001b[0m             \u001b[1;32mreturn\u001b[0m \u001b[0mN\u001b[0m\u001b[1;33m.\u001b[0m\u001b[0mdot\u001b[0m\u001b[1;33m(\u001b[0m\u001b[0mself\u001b[0m\u001b[1;33m,\u001b[0m \u001b[0mother\u001b[0m\u001b[1;33m)\u001b[0m\u001b[1;33m\u001b[0m\u001b[0m\n",
      "\u001b[1;31mValueError\u001b[0m: shapes (100,6) and (3,1) not aligned: 6 (dim 1) != 3 (dim 0)"
     ]
    }
   ],
   "source": [
    "cols = data.shape[1]\n",
    "X = data.iloc[:,0:cols-1]\n",
    "y = data.iloc[:,cols-1:cols]\n",
    "\n",
    "# convert to matrices and initialize theta\n",
    "X = np.matrix(X.values)\n",
    "y = np.matrix(y.values)\n",
    "theta2 = np.matrix(np.array([0,0,0]))\n",
    "\n",
    "# perform linear regression on the data set\n",
    "g2, cost2 = gradientDescent(X, y, theta2, alpha, iters)\n",
    "\n",
    "# get the cost (error) of the model\n",
    "computeCost(X, y, g2)"
   ]
  },
  {
   "cell_type": "code",
   "execution_count": null,
   "metadata": {},
   "outputs": [],
   "source": []
  }
 ],
 "metadata": {
  "kernelspec": {
   "display_name": "Python 3",
   "language": "python",
   "name": "python3"
  },
  "language_info": {
   "codemirror_mode": {
    "name": "ipython",
    "version": 3
   },
   "file_extension": ".py",
   "mimetype": "text/x-python",
   "name": "python",
   "nbconvert_exporter": "python",
   "pygments_lexer": "ipython3",
   "version": "3.6.5"
  }
 },
 "nbformat": 4,
 "nbformat_minor": 2
}
